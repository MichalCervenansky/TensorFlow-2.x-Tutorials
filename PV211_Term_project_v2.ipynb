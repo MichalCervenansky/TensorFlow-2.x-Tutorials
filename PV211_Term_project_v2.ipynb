{
  "nbformat": 4,
  "nbformat_minor": 0,
  "metadata": {
    "colab": {
      "name": "Copy of PV211_Term_project_v2.ipynb",
      "provenance": [],
      "collapsed_sections": [],
      "include_colab_link": true
    },
    "kernelspec": {
      "name": "python3",
      "display_name": "Python 3"
    }
  },
  "cells": [
    {
      "cell_type": "markdown",
      "metadata": {
        "id": "view-in-github",
        "colab_type": "text"
      },
      "source": [
        "<a href=\"https://colab.research.google.com/github/MichalCervenansky/TensorFlow-2.x-Tutorials/blob/master/PV211_Term_project_v2.ipynb\" target=\"_parent\"><img src=\"https://colab.research.google.com/assets/colab-badge.svg\" alt=\"Open In Colab\"/></a>"
      ]
    },
    {
      "cell_type": "markdown",
      "metadata": {
        "id": "cfQo2UKpZ9jT",
        "colab_type": "text"
      },
      "source": [
        "# Term Project\n",
        "“The Cranfield collection [...] was the pioneering test collection in allowing CRANFIELD precise quantitative measures of information retrieval effectiveness [...]. Collected in the United Kingdom starting in the late 1950s, it contains 1398 abstracts of aerodynamics journal articles, a set of 225 queries, and exhaustive relevance judgments of all (query, document) pairs.” [1, Section 8.2]\n",
        "\n",
        "Your tasks, reviewed by your colleagues and the course instructors, are the following:\n",
        "\n",
        "1.   *Implement a ranked retrieval system*, [1, Chapter 6] which will produce a list of documents from the Cranfield collection in a descending order of relevance to a query from the Cranfield collection. You MUST NOT use relevance judgements from the Cranfield collection in your information retrieval system. Relevance judgements MUST only be used for the evaluation of your information retrieval system.\n",
        "\n",
        "2.   *Document your code* in accordance with [PEP 257](https://www.python.org/dev/peps/pep-0257/), ideally using [the NumPy style guide](https://numpydoc.readthedocs.io/en/latest/format.html#docstring-standard) as seen in the code from exercises.  \n",
        "     *Stick to a consistent coding style* in accordance with [PEP 8](https://www.python.org/dev/peps/pep-0008/).\n",
        "\n",
        "3.   *Reach at least 35% mean average precision* [1, Section 8.4] with your system on the Cranfield collection. You are encouraged to use techniques for tokenization, [1, Section 2.2] document representation [1, Section 6.4], tolerant retrieval [1, Chapter 3], relevance feedback and query expansion, [1, Chapter 9] and others discussed in the course.\n",
        "\n",
        "4.   *Upload a link to your Google Colaboratory document to the homework vault in IS MU.* You MAY also include a brief description of your information retrieval system."
      ]
    },
    {
      "cell_type": "markdown",
      "metadata": {
        "id": "r15UxDfcrpSx",
        "colab_type": "text"
      },
      "source": [
        "#### Install the fresh version of utils"
      ]
    },
    {
      "cell_type": "code",
      "metadata": {
        "id": "inUAfc6TQMVJ",
        "colab_type": "code",
        "outputId": "d960de5b-3904-4e4e-c08f-505fd0d64737",
        "colab": {
          "base_uri": "https://localhost:8080/",
          "height": 51
        }
      },
      "source": [
        "! pip install git+https://gitlab.fi.muni.cz/xstefan3/pv211-utils.git@master | grep '^Successfully'"
      ],
      "execution_count": 252,
      "outputs": [
        {
          "output_type": "stream",
          "text": [
            "  Running command git clone -q https://gitlab.fi.muni.cz/xstefan3/pv211-utils.git /tmp/pip-req-build-3rx_36_x\n",
            "Successfully built pv211-utils\n"
          ],
          "name": "stdout"
        }
      ]
    },
    {
      "cell_type": "markdown",
      "metadata": {
        "id": "xmpR8qpTZwyP",
        "colab_type": "text"
      },
      "source": [
        "## Loading the Cranfield collection"
      ]
    },
    {
      "cell_type": "markdown",
      "metadata": {
        "id": "y845E0ePZqeH",
        "colab_type": "text"
      },
      "source": [
        "### Loading the documents\n",
        "The following code loads documents from the Cranfield collection into the `documents` [ordered dictionary](https://docs.python.org/3.8/library/collections.html#collections.OrderedDict). Tokenization of the `title` and `body` attributes of the individual documents as well as the creative use of the `authors`, `bibliography`, and `title` attributes is left to your imagination and craftsmanship."
      ]
    },
    {
      "cell_type": "code",
      "metadata": {
        "id": "fyAqWIQyINng",
        "colab_type": "code",
        "colab": {}
      },
      "source": [
        "from pv211_utils.entities import DocumentBase\n",
        "\n",
        "class Document(DocumentBase):\n",
        "    \"\"\"\n",
        "    A Cranfield collection document.\n",
        "\n",
        "    Parameters\n",
        "    ----------\n",
        "    document_id : int\n",
        "        A unique identifier of the document.\n",
        "    authors : list of str\n",
        "        A unique identifiers of the authors of the document.\n",
        "    bibliography : str\n",
        "        The bibliographical entry for the document.\n",
        "    title : str\n",
        "        The title of the document.\n",
        "    body : str\n",
        "        The abstract of the document.\n",
        "\n",
        "    \"\"\"\n",
        "    def __init__(self, document_id, authors, bibliography, title, body):\n",
        "        super().__init__(document_id, authors, bibliography, title, body)\n",
        "        # preprocessing?"
      ],
      "execution_count": 0,
      "outputs": []
    },
    {
      "cell_type": "code",
      "metadata": {
        "id": "HfRrW7O6U5wb",
        "colab_type": "code",
        "colab": {}
      },
      "source": [
        "from pv211_utils.loader import load_documents\n",
        "\n",
        "documents = load_documents(Document)"
      ],
      "execution_count": 0,
      "outputs": []
    },
    {
      "cell_type": "code",
      "metadata": {
        "id": "DkeKUsWWWnb9",
        "colab_type": "code",
        "outputId": "ee0d399f-24d5-4a19-baf3-235a749ff2c9",
        "colab": {
          "base_uri": "https://localhost:8080/",
          "height": 187
        }
      },
      "source": [
        "print('\\n'.join(repr(document) for document in list(documents.values())[:9]) + '\\n...')"
      ],
      "execution_count": 255,
      "outputs": [
        {
          "output_type": "stream",
          "text": [
            "<Document 1 titled “experimental investigation of the aerodynamics of a wing in a slipstream .”>\n",
            "<Document 2 titled “simple shear flow past a flat plate in an incompressible fluid of small viscosity .”>\n",
            "<Document 3 titled “the boundary layer in simple shear flow past a flat plate .”>\n",
            "<Document 4 titled “approximate solutions of the incompressible laminar boundary layer equations for a plate in shear flow .”>\n",
            "<Document 5 titled “one-dimensional transient heat conduction into a double-layer slab subjected to a linear heat input for a small time internal .”>\n",
            "<Document 6 titled “one-dimensional transient heat flow in a multilayer slab .”>\n",
            "<Document 7 titled “the effect of controlled three-dimensional roughness on boundary layer transition at supersonic speeds .”>\n",
            "<Document 8 titled “measurements of the effect of two-dimensional and three-dimensional roughness elements on boundary layer transition .”>\n",
            "<Document 9 titled “transition studies and skin friction measurements on an insulated flat plate at a mach number of 5.8 .”>\n",
            "...\n"
          ],
          "name": "stdout"
        }
      ]
    },
    {
      "cell_type": "code",
      "metadata": {
        "id": "kvsnuhT3ZZAo",
        "colab_type": "code",
        "outputId": "aa1db718-89e0-4740-ce7a-fb2f122b6545",
        "colab": {
          "base_uri": "https://localhost:8080/",
          "height": 34
        }
      },
      "source": [
        "document = documents[14]\n",
        "document"
      ],
      "execution_count": 256,
      "outputs": [
        {
          "output_type": "execute_result",
          "data": {
            "text/plain": [
              "<Document 14 titled “piston theory - a new aerodynamic tool for the aeroelastician .”>"
            ]
          },
          "metadata": {
            "tags": []
          },
          "execution_count": 256
        }
      ]
    },
    {
      "cell_type": "code",
      "metadata": {
        "id": "e-zw68v5Xoh5",
        "colab_type": "code",
        "outputId": "e02a8594-9bad-4741-90f7-e4c1d47a27b9",
        "colab": {
          "base_uri": "https://localhost:8080/",
          "height": 34
        }
      },
      "source": [
        "document.authors"
      ],
      "execution_count": 257,
      "outputs": [
        {
          "output_type": "execute_result",
          "data": {
            "text/plain": [
              "'ashley,h. and zartarian,g.'"
            ]
          },
          "metadata": {
            "tags": []
          },
          "execution_count": 257
        }
      ]
    },
    {
      "cell_type": "code",
      "metadata": {
        "id": "p13FfuduZSRK",
        "colab_type": "code",
        "outputId": "d3baaa26-db05-4728-96d9-14bbd5c7a63b",
        "colab": {
          "base_uri": "https://localhost:8080/",
          "height": 34
        }
      },
      "source": [
        "document.bibliography"
      ],
      "execution_count": 258,
      "outputs": [
        {
          "output_type": "execute_result",
          "data": {
            "text/plain": [
              "'j. ae. scs. 23, 1956, 1109.'"
            ]
          },
          "metadata": {
            "tags": []
          },
          "execution_count": 258
        }
      ]
    },
    {
      "cell_type": "code",
      "metadata": {
        "id": "z5bmj4WzZc9e",
        "colab_type": "code",
        "outputId": "78288891-c1ce-4419-e3fb-35f578ddff31",
        "colab": {
          "base_uri": "https://localhost:8080/",
          "height": 34
        }
      },
      "source": [
        "document.title"
      ],
      "execution_count": 259,
      "outputs": [
        {
          "output_type": "execute_result",
          "data": {
            "text/plain": [
              "'piston theory - a new aerodynamic tool for the aeroelastician .'"
            ]
          },
          "metadata": {
            "tags": []
          },
          "execution_count": 259
        }
      ]
    },
    {
      "cell_type": "code",
      "metadata": {
        "id": "W3z7ed8SZkn6",
        "colab_type": "code",
        "outputId": "6f10fa73-c588-4c10-891e-37c59c6cb81d",
        "colab": {
          "base_uri": "https://localhost:8080/",
          "height": 54
        }
      },
      "source": [
        "document.body"
      ],
      "execution_count": 260,
      "outputs": [
        {
          "output_type": "execute_result",
          "data": {
            "text/plain": [
              "\"piston theory - a new aerodynamic tool for the aeroelastician .   representative applications are described which illustrate the extent to which simplifications in the solutions of high-speed unsteady aeroelastic problems can be achieved through the use of certain aerodynamic techniques known collectively as /piston theory ./  based on a physical model originally proposed by hayes and lighthill, piston theory for airfoils and finite wings has been systematically developed by landahl, utilizing expansions in powers of the thickness ratio and the inverse of the flight mach number m .  when contributions of orders and are negligible, the theory predicts a point-function relationship between the local pressure on the surface of a wing and the normal component of fluid velocity produced by the wing's motion .  the computation of generalized forces in aeroelastic equations, such as the flutter determinant, is then always reduced to elementary integrations of the assumed modes of motion .   essentially closed-form solutions are given for the bending- torsion and control-surface flutter properties of typical section airfoils at high mach numbers .  these agree well with results of more exact theories wherever comparisons can be fairly made . moreover, they demonstrate the increasingly important influence of thickness and profile shape as m grows larger, a discovery that would be almost impossible using other available aerodynamic tools .  the complexity of more practical flutter analyses-e.g., on three-dimensional wings and panels-is shown to be substantially reduced by piston theory .  an iterative procedure is outlined, by which improved flutter eigenvalues can be found through the successive introduction of higher-order terms in and  .   other applications to unsteady supersonic problems are reviewed, including gust response and rapid maneuvers of elastic aircraft .  steady-state aeroelastic calculations are also discussed, but for them piston theory amounts only to a slight modification of ackeret's formulas .   suggestions are made regarding future research based on the new aerodynamic method, with particular emphasis on areas where computational labor can be reduced with a minimum loss of precision .  it is pointed out that a mach number zone exists where thermal effects are appreciable but nonlinear viscous interactions may be neglected, and that in this zone piston theory is the logical way of estimating air loads when analyzing aerodynamic- thermoelastic interaction problems .\""
            ]
          },
          "metadata": {
            "tags": []
          },
          "execution_count": 260
        }
      ]
    },
    {
      "cell_type": "markdown",
      "metadata": {
        "id": "CwYwHs-MpD1_",
        "colab_type": "text"
      },
      "source": [
        "### Loading the queries\n",
        "The following code loads queries from the Cranfield collection into the `queries` [ordered dictionary](https://docs.python.org/3.8/library/collections.html#collections.OrderedDict). Tokenization of the `body` attribute of the individual queries is left to your imagination and craftsmanship."
      ]
    },
    {
      "cell_type": "code",
      "metadata": {
        "id": "oaCFkMFdKjST",
        "colab_type": "code",
        "colab": {}
      },
      "source": [
        "from pv211_utils.entities import QueryBase\n",
        "\n",
        "class Query(QueryBase):\n",
        "    \"\"\"\n",
        "    A Cranfield collection query.\n",
        "\n",
        "    Parameters\n",
        "    ----------\n",
        "    query_id : int\n",
        "        A unique identifier of the query.\n",
        "    body : str\n",
        "        The text of the query.\n",
        "\n",
        "    \"\"\"\n",
        "    def __init__(self, query_id, body):\n",
        "        super().__init__(query_id, body)\n",
        "        # preprocessing!"
      ],
      "execution_count": 0,
      "outputs": []
    },
    {
      "cell_type": "code",
      "metadata": {
        "id": "8qcyQUNRqRTr",
        "colab_type": "code",
        "colab": {}
      },
      "source": [
        "from pv211_utils.loader import load_queries\n",
        "\n",
        "queries = load_queries(Query)"
      ],
      "execution_count": 0,
      "outputs": []
    },
    {
      "cell_type": "code",
      "metadata": {
        "id": "IW-N6g3LqwPZ",
        "colab_type": "code",
        "outputId": "6d8ba27f-03ee-4d4d-c42b-f7117a37c750",
        "colab": {
          "base_uri": "https://localhost:8080/",
          "height": 187
        }
      },
      "source": [
        "print('\\n'.join(repr(query) for query in list(queries.values())[:9]) + '\\n...')"
      ],
      "execution_count": 263,
      "outputs": [
        {
          "output_type": "stream",
          "text": [
            "<Query 1 “what similarity laws must be obeyed when constructing aeroelastic models of heated high speed aircraft .”>\n",
            "<Query 2 “what are the structural and aeroelastic problems associated with flight of high speed aircraft .”>\n",
            "<Query 3 “what problems of heat conduction in composite slabs have been solved so far .”>\n",
            "<Query 4 “can a criterion be developed to show empirically the validity of flow solutions for chemically reacting gas mixtures based on the simplifying assumption of instantaneous local chemical equilibrium .”>\n",
            "<Query 5 “what chemical kinetic system is applicable to hypersonic aerodynamic problems .”>\n",
            "<Query 6 “what theoretical and experimental guides do we have as to turbulent couette flow behaviour .”>\n",
            "<Query 7 “is it possible to relate the available pressure distributions for an ogive forebody at zero angle of attack to the lower surface pressures of an equivalent ogive forebody at angle of attack .”>\n",
            "<Query 8 “what methods -dash exact or approximate -dash are presently available for predicting body pressures at angle of attack.”>\n",
            "<Query 9 “papers on internal /slip flow/ heat transfer studies .”>\n",
            "...\n"
          ],
          "name": "stdout"
        }
      ]
    },
    {
      "cell_type": "code",
      "metadata": {
        "id": "VgdHjSYIq5HV",
        "colab_type": "code",
        "outputId": "6e3fd3f7-2749-472c-8994-31ab4addb0bb",
        "colab": {
          "base_uri": "https://localhost:8080/",
          "height": 34
        }
      },
      "source": [
        "query = queries[14]\n",
        "query"
      ],
      "execution_count": 264,
      "outputs": [
        {
          "output_type": "execute_result",
          "data": {
            "text/plain": [
              "<Query 14 “papers on shock-sound wave interaction .”>"
            ]
          },
          "metadata": {
            "tags": []
          },
          "execution_count": 264
        }
      ]
    },
    {
      "cell_type": "code",
      "metadata": {
        "id": "w4NGZOdOq8NF",
        "colab_type": "code",
        "outputId": "4944ae93-287a-409f-8eb5-282479f3b780",
        "colab": {
          "base_uri": "https://localhost:8080/",
          "height": 34
        }
      },
      "source": [
        "query.body"
      ],
      "execution_count": 265,
      "outputs": [
        {
          "output_type": "execute_result",
          "data": {
            "text/plain": [
              "'papers on shock-sound wave interaction .'"
            ]
          },
          "metadata": {
            "tags": []
          },
          "execution_count": 265
        }
      ]
    },
    {
      "cell_type": "markdown",
      "metadata": {
        "id": "T80oQdZGsh6_",
        "colab_type": "text"
      },
      "source": [
        "### Loading the relevance judgements\n",
        "The following code loads relevance judgements from the Cranfield collection into the `relevant` set. Relevance judgements MUST NOT be used in your information retrieval system. Relevance judgements MUST only be used for the evaluation of your information retrieval system."
      ]
    },
    {
      "cell_type": "code",
      "metadata": {
        "id": "qWkdR9X6shQ8",
        "colab_type": "code",
        "colab": {}
      },
      "source": [
        "from pv211_utils.loader import load_judgements\n",
        "\n",
        "relevant = load_judgements(queries, documents)"
      ],
      "execution_count": 0,
      "outputs": []
    },
    {
      "cell_type": "code",
      "metadata": {
        "id": "cqLzQBRZulwW",
        "colab_type": "code",
        "outputId": "45da039b-96ee-4219-eae5-5aec9f2d1638",
        "colab": {
          "base_uri": "https://localhost:8080/",
          "height": 34
        }
      },
      "source": [
        "query = queries[1]\n",
        "query"
      ],
      "execution_count": 267,
      "outputs": [
        {
          "output_type": "execute_result",
          "data": {
            "text/plain": [
              "<Query 1 “what similarity laws must be obeyed when constructing aeroelastic models of heated high speed aircraft .”>"
            ]
          },
          "metadata": {
            "tags": []
          },
          "execution_count": 267
        }
      ]
    },
    {
      "cell_type": "code",
      "metadata": {
        "id": "u0JK6zrIuvCV",
        "colab_type": "code",
        "outputId": "9fdc2bf0-64d5-4215-c3a5-262baf86b91f",
        "colab": {
          "base_uri": "https://localhost:8080/",
          "height": 34
        }
      },
      "source": [
        "relevant_document = documents[486]\n",
        "relevant_document"
      ],
      "execution_count": 268,
      "outputs": [
        {
          "output_type": "execute_result",
          "data": {
            "text/plain": [
              "<Document 486 titled “similarity laws for aerothermoelastic testing .”>"
            ]
          },
          "metadata": {
            "tags": []
          },
          "execution_count": 268
        }
      ]
    },
    {
      "cell_type": "code",
      "metadata": {
        "id": "08Q5HIwcu3ym",
        "colab_type": "code",
        "outputId": "15c38417-6f11-4656-9cc7-563a69245a2a",
        "colab": {
          "base_uri": "https://localhost:8080/",
          "height": 34
        }
      },
      "source": [
        "(query, relevant_document) in relevant"
      ],
      "execution_count": 269,
      "outputs": [
        {
          "output_type": "execute_result",
          "data": {
            "text/plain": [
              "True"
            ]
          },
          "metadata": {
            "tags": []
          },
          "execution_count": 269
        }
      ]
    },
    {
      "cell_type": "code",
      "metadata": {
        "id": "qzUWNJ8TvJ-p",
        "colab_type": "code",
        "outputId": "51f76169-5b6b-4837-9e0c-77c2fe9b34e9",
        "colab": {
          "base_uri": "https://localhost:8080/",
          "height": 34
        }
      },
      "source": [
        "irrelevant_document = documents[487]\n",
        "irrelevant_document"
      ],
      "execution_count": 270,
      "outputs": [
        {
          "output_type": "execute_result",
          "data": {
            "text/plain": [
              "<Document 487 titled “theory for supersonic two-dimensional, laminar, base-type flows using the crocco-lees mixing concepts .”>"
            ]
          },
          "metadata": {
            "tags": []
          },
          "execution_count": 270
        }
      ]
    },
    {
      "cell_type": "code",
      "metadata": {
        "id": "M7PVZli9vNI_",
        "colab_type": "code",
        "outputId": "1687c178-99db-46c4-9cd5-58d50bbcc59c",
        "colab": {
          "base_uri": "https://localhost:8080/",
          "height": 34
        }
      },
      "source": [
        "(query, irrelevant_document) in relevant"
      ],
      "execution_count": 271,
      "outputs": [
        {
          "output_type": "execute_result",
          "data": {
            "text/plain": [
              "False"
            ]
          },
          "metadata": {
            "tags": []
          },
          "execution_count": 271
        }
      ]
    },
    {
      "cell_type": "markdown",
      "metadata": {
        "id": "xJM9TfbEPCZV",
        "colab_type": "text"
      },
      "source": [
        "## Implementation of your information retrieval system\n",
        "The following code provides an example implementation of an information retrieval system in the `search` function. This example implementation returns documents in a random order and achieves a very weak mean average precision. Replace this implementation with your own implementation."
      ]
    },
    {
      "cell_type": "code",
      "metadata": {
        "id": "VVyKP961NJT3",
        "colab_type": "code",
        "colab": {}
      },
      "source": [
        "from gensim.models import doc2vec\n",
        "from gensim.models.doc2vec import TaggedDocument\n",
        "import multiprocessing\n",
        "from pv211_utils.loader import load_documents\n",
        "\n",
        "# Doc2Vec\n",
        "cores = multiprocessing.cpu_count()\n",
        "\n",
        "models = [\n",
        "    # PV-DBOW \n",
        "    #Doc2Vec(dm=0, dbow_words=1, size=200, window=8, min_count=19, iter=10, workers=cores),\n",
        "    # PV-DM w/average\n",
        "    #Doc2Vec(dm=1, dm_mean=1, size=200, window=8, min_count=19, iter =10, workers=cores),\n",
        "]\n",
        "doc2vec_model = doc2vec.Doc2Vec(dm=0, vector_size=300, negative=12, hs=0, min_count=5, workers=cores, alpha=0.1, window=8)\n",
        "\n",
        "documents = list(load_documents(Document).items())\n",
        "taggeddocs = []\n",
        "for each in documents:\n",
        "    taggeddoc = TaggedDocument(words=each[1].body.split(), tags=str(each[0]))\n",
        "    taggeddocs.append(taggeddoc)\n",
        "\n",
        "\n",
        "doc2vec_model.build_vocab(taggeddocs)\n",
        "doc2vec_model.train(taggeddocs, total_examples=doc2vec_model.corpus_count, epochs=10)\n",
        "\n",
        "vec_docs = list(map(lambda doc: doc2vec_model.infer_vector(doc.words), taggeddocs))\n",
        "\n",
        "queries = list(load_queries(Query).items())\n",
        "taggedqueries = []\n",
        "for each in queries:\n",
        "    taggedquery = TaggedDocument(words=each[1].body.split(), tags=str(each[0]))\n",
        "    taggedqueries.append(taggedquery)\n",
        "\n",
        "vec_queries = list(map(lambda doc: doc2vec_model.infer_vector(doc.words), taggedqueries))\n",
        "\n",
        "\n",
        "print(len(vec_docs[1]))\n",
        "print(len(vec_queries[1]))\n",
        "\n",
        "from sklearn.metrics.pairwise import cosine_similarity\n",
        "len(cosine_similarity(vec_queries[0:1], vec_docs[:])[0])"
      ],
      "execution_count": 0,
      "outputs": []
    },
    {
      "cell_type": "code",
      "metadata": {
        "id": "Bqq_dijKRT-F",
        "colab_type": "code",
        "colab": {}
      },
      "source": [
        "from random import seed, shuffle\n",
        "\n",
        "from pv211_utils.irsystem import IRSystem\n",
        "\n",
        "class SillyRandomIRSystem(IRSystem):\n",
        "    \"\"\"\n",
        "    A system that returns documents in random order.\n",
        "\n",
        "    Attributes\n",
        "    ----------\n",
        "    random_documents : list of Document\n",
        "        Documents in random order.\n",
        "\n",
        "    \"\"\"\n",
        "   \n",
        "    def search(self, query):\n",
        "        \"\"\"The ranked retrieval results for a query.\n",
        "\n",
        "        Parameters\n",
        "        ----------\n",
        "        query : Query\n",
        "            A query.\n",
        "        \n",
        "        Returns\n",
        "        -------\n",
        "        list of Document\n",
        "            The ranked retrieval results for a query.\n",
        "\n",
        "        \"\"\"\n",
        "        vec_query = doc2vec_model.infer_vector(query.body.split())\n",
        "        sim = cosine_similarity(vec_query.reshape(1,-1), vec_docs[:])[0]\n",
        "        new_dic = {}\n",
        "        for i in range(len(sim)):\n",
        "          new_dic[sim[i]] = documents[i]\n",
        "\n",
        "        return new_dic.values()"
      ],
      "execution_count": 0,
      "outputs": []
    },
    {
      "cell_type": "markdown",
      "metadata": {
        "id": "TwrCzoaZhWi4",
        "colab_type": "text"
      },
      "source": [
        "## Evaluation"
      ]
    },
    {
      "cell_type": "markdown",
      "metadata": {
        "id": "4bioYHbahybQ",
        "colab_type": "text"
      },
      "source": [
        "The following code evaluates your information retrieval system using the Mean Average Precision evaluation measure.\n",
        "You can [check out on GitLab](https://gitlab.fi.muni.cz/xstefan3/pv211-utils/blob/master/pv211_utils/eval.py) how Mean Average Precision is computed.\n",
        "\n",
        "If you choose to `submit_result`, the result of your run will appear among our [Leaderboard submissions](https://docs.google.com/spreadsheets/d/1f9P3bn17n2rHGCxBnn3GVr57PF5hMWJEILp06Uq7Jnk/edit?usp=sharing).\n",
        "\n",
        "Then, your best score for each week will be submited and ranked in the Leaderboard sheet. The best solvers will get small **awards during the semester**, or some **seriously big awards** after the personal check, at the end of the competition (that's the 8th of May for now)."
      ]
    },
    {
      "cell_type": "code",
      "metadata": {
        "id": "ssX-nvxGu3JK",
        "colab_type": "code",
        "colab": {}
      },
      "source": [
        "from pv211_utils.eval import mean_average_precision\n",
        "my_system = SillyRandomIRSystem()\n",
        "print(documents)\n",
        "print(my_system.search(queries[0][1]))\n",
        "print(len(documents))\n",
        "print(len(my_system.search(queries[0][1])))\n",
        "#print(len(my_system.search(\"what similarity laws must be obeyed when constructing aeroelastic models of heated high speed aircraft .\")))\n",
        "\n",
        "mean_average_precision(SillyRandomIRSystem(), submit_result=False, author_name=\"Červeňanský, Michal\")"
      ],
      "execution_count": 0,
      "outputs": []
    },
    {
      "cell_type": "markdown",
      "metadata": {
        "id": "HmrIiB78nvWM",
        "colab_type": "text"
      },
      "source": [
        "Please be polite and do not spoil the game for the others ;)\n",
        "\n",
        "**Have fun!**"
      ]
    },
    {
      "cell_type": "markdown",
      "metadata": {
        "id": "20rKmDny7Z3K",
        "colab_type": "text"
      },
      "source": [
        "## Bibliography\n",
        "[1] Manning, Christopher D., Prabhakar Raghavan, and Hinrich Schütze. [*Introduction to information retrieval*](https://nlp.stanford.edu/IR-book/pdf/irbookonlinereading.pdf). Cambridge university press, 2008."
      ]
    }
  ]
}